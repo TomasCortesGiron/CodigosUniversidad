{
  "nbformat": 4,
  "nbformat_minor": 0,
  "metadata": {
    "colab": {
      "provenance": [],
      "authorship_tag": "ABX9TyODt2XW4qh8ykYkOA6frph7",
      "include_colab_link": true
    },
    "kernelspec": {
      "name": "python3",
      "display_name": "Python 3"
    },
    "language_info": {
      "name": "python"
    }
  },
  "cells": [
    {
      "cell_type": "markdown",
      "metadata": {
        "id": "view-in-github",
        "colab_type": "text"
      },
      "source": [
        "<a href=\"https://colab.research.google.com/github/TomasCortesGiron/CodigosUniversidad/blob/main/TraerDatosPagina.ipynb\" target=\"_parent\"><img src=\"https://colab.research.google.com/assets/colab-badge.svg\" alt=\"Open In Colab\"/></a>"
      ]
    },
    {
      "cell_type": "code",
      "execution_count": 88,
      "metadata": {
        "colab": {
          "base_uri": "https://localhost:8080/"
        },
        "id": "Z7kGZI5ahXIX",
        "outputId": "ff4b6499-8512-4e9b-ddd6-33920de2cbc2"
      },
      "outputs": [
        {
          "output_type": "stream",
          "name": "stdout",
          "text": [
            "78\n",
            "[10.0, 10.0, 10.0, 10.0, 10.0, 10.0, 10.0, 10.0, 10.0, 10.0, 10.0, 10.0, 10.0, 10.0, 10.0, 10.0, 10.0, 10.0, 10.0, 10.0, 10.0, 10.0, 10.0, 10.0, 10.0, 10.0, 10.0, 10.0, 10.0, 10.0, 10.0, 10.0, 10.0, 10.0, 10.0, 10.0, 10.0, 10.0, 10.0, 10.0, 10.0, 10.0, 10.0, 10.0, 10.0, 10.0, 10.0, 10.0, 10.0, 10.0, 10.0, 10.0, 10.0, 10.0, 10.0, 10.0, 10.0, 10.0, 10.0, 10.0, 10.0, 10.0, 10.0, 10.0, 10.0, 10.0, 10.0, 10.0, 10.0, 10.0, 10.0, 10.0, 10.0, 10.0, 10.0, 10.0, 10.0]\n",
            "[5.0, 5.0, 5.0, 5.0, 5.0, 5.0, 5.0, 5.0, 5.0, 5.0, 5.0, 5.0, 5.0, 5.0, 5.0, 5.0, 5.0, 5.0, 5.0, 5.0, 5.0, 5.0, 5.0, 5.0, 5.0, 5.0, 5.0, 5.0, 5.0, 5.0, 5.0, 5.0, 5.0, 5.0, 5.0, 5.0, 5.0, 5.0, 5.0, 5.0, 5.0, 5.0, 5.0, 5.0, 5.0, 5.0, 5.0, 5.0, 5.0, 5.0, 5.0, 5.0, 5.0, 5.0, 5.0, 5.0, 5.0, 5.0, 5.0, 5.0, 5.0, 5.0, 5.0, 5.0, 5.0, 5.0, 5.0, 5.0, 5.0, 5.0, 5.0, 5.0, 5.0, 5.0, 5.0, 5.0, 5.0]\n",
            "[15.0, 15.0, 15.0, 15.0, 15.0, 15.0, 15.0, 15.0, 15.0, 15.0, 15.0, 15.0, 15.0, 15.0, 15.0, 15.0, 15.0, 15.0, 15.0, 15.0, 15.0, 15.0, 15.0, 15.0, 15.0, 15.0, 15.0, 15.0, 15.0, 15.0, 15.0, 15.0, 15.0, 15.0, 15.0, 15.0, 15.0, 15.0, 15.0, 15.0, 15.0, 15.0, 15.0, 15.0, 15.0, 15.0, 15.0, 15.0, 15.0, 15.0, 15.0, 15.0, 15.0, 15.0, 15.0, 15.0, 15.0, 15.0, 15.0, 15.0, 15.0, 15.0, 15.0, 15.0, 15.0, 15.0, 15.0, 15.0, 15.0, 15.0, 15.0, 15.0, 15.0, 15.0, 15.0, 15.0, 15.0]\n",
            "[20.0, 20.0, 20.0, 20.0, 20.0, 20.0, 20.0, 20.0, 20.0, 20.0, 20.0, 20.0, 20.0, 20.0, 20.0, 20.0, 20.0, 20.0, 20.0, 20.0, 20.0, 20.0, 20.0, 20.0, 20.0, 20.0, 20.0, 20.0, 20.0, 20.0, 20.0, 20.0, 20.0, 20.0, 20.0, 20.0, 20.0, 20.0, 20.0, 20.0, 20.0, 20.0, 20.0, 20.0, 20.0, 20.0, 20.0, 20.0, 20.0, 20.0, 20.0, 20.0, 20.0, 20.0, 20.0, 20.0, 20.0, 20.0, 20.0, 20.0, 20.0, 20.0, 20.0, 20.0, 20.0, 20.0, 20.0, 20.0, 20.0, 20.0, 20.0, 20.0, 20.0, 20.0, 20.0, 20.0, 20.0]\n",
            "[25.0, 25.0, 25.0, 25.0, 25.0, 25.0, 25.0, 25.0, 25.0, 25.0, 25.0, 25.0, 25.0, 25.0, 25.0, 25.0, 25.0, 25.0, 25.0, 25.0, 25.0, 25.0, 25.0, 25.0, 25.0, 25.0, 25.0, 25.0, 25.0, 25.0, 25.0, 25.0, 25.0, 25.0, 25.0, 25.0, 25.0, 25.0, 25.0, 25.0, 25.0, 25.0, 25.0, 25.0, 25.0, 25.0, 25.0, 25.0, 25.0, 25.0, 25.0, 25.0, 25.0, 25.0, 25.0, 25.0, 25.0, 25.0, 25.0, 25.0, 25.0, 25.0, 25.0, 25.0, 25.0, 25.0, 25.0, 25.0, 25.0, 25.0, 25.0, 25.0, 25.0, 25.0, 25.0, 25.0, 25.0]\n",
            "['2022-11-16 16:13:20', '2022-11-16 16:14:54', '2022-11-16 16:14:57', '2022-11-16 16:15:00', '2022-11-16 16:15:12', '2022-11-16 16:15:15', '2022-11-17 09:45:03', '2022-11-17 10:34:34', '2022-11-17 10:34:39', '2022-11-17 10:34:41', '2022-11-17 10:34:44', '2022-11-17 10:34:47', '2022-11-17 10:34:50', '2022-11-17 10:34:55', '2022-11-17 10:35:01', '2022-11-17 10:35:03', '2022-11-17 10:35:06', '2022-11-17 10:35:09', '2022-11-17 10:35:11', '2022-11-17 10:35:14', '2022-11-17 10:35:16', '2022-11-17 10:35:19', '2022-11-17 10:35:22', '2022-11-17 10:35:24', '2022-11-17 10:35:27', '2022-11-17 10:35:30', '2022-11-17 10:35:33', '2022-11-17 10:35:35', '2022-11-17 10:35:38', '2022-11-17 10:35:40', '2022-11-17 10:35:49', '2022-11-17 10:35:52', '2022-11-17 10:35:55', '2022-11-17 10:35:57', '2022-11-17 10:35:59', '2022-11-17 10:36:04', '2022-11-17 10:36:07', '2022-11-17 10:36:09', '2022-11-17 10:36:12', '2022-11-17 10:36:14', '2022-11-17 10:36:17', '2022-11-17 10:36:19', '2022-11-17 10:36:22', '2022-11-17 10:36:24', '2022-11-17 10:36:34', '2022-11-17 10:36:37', '2022-11-17 10:36:40', '2022-11-17 10:36:49', '2022-11-17 10:36:51', '2022-11-17 10:37:01', '2022-11-17 10:37:03', '2022-11-17 10:37:06', '2022-11-17 10:37:08', '2022-11-17 10:37:11', '2022-11-17 10:37:14', '2022-11-17 10:37:21', '2022-11-17 10:37:26', '2022-11-17 10:37:29', '2022-11-17 10:37:34', '2022-11-17 10:37:37', '2022-11-17 10:37:42', '2022-11-17 10:37:47', '2022-11-17 10:37:50', '2022-11-17 10:37:53', '2022-11-17 10:37:55', '2022-11-17 10:37:58', '2022-11-17 10:38:00', '2022-11-17 10:38:03', '2022-11-17 10:38:06', '2022-11-17 10:38:08', '2022-11-17 10:38:11', '2022-11-17 10:38:14', '2022-11-17 10:38:16', '2022-11-17 10:38:19', '2022-11-17 10:38:21', '2022-11-17 10:38:24', '2022-11-17 10:38:27']\n"
          ]
        }
      ],
      "source": [
        "import requests\n",
        "import urllib.request\n",
        "from bs4 import BeautifulSoup\n",
        "\n",
        "#Para la parte de la analítica de datos:\n",
        "\n",
        "url = \"https://petkitsmart.000webhostapp.com/servidor.php\"\n",
        "\n",
        "r = requests.get(url)\n",
        "\n",
        "html_content = r.text\n",
        "\n",
        "soup = BeautifulSoup(html_content, \"html.parser\")\n",
        "#print(soup)\n",
        "\n",
        "#Para encontrar todos los valores de las filas podriamos usar el siguiente comando:\n",
        "#print(soup.find_all('tr'))\n",
        "\n",
        "#Para conocer el número de filas, podemos usar el siguiente comando:\n",
        "print(len(soup.find_all('tr')))\n",
        "\n",
        "#Declaramos una serie de arreglos para guardar los valores de las variables:\n",
        "longitudTot = []\n",
        "latitudTot = []\n",
        "temperaturaTot = []\n",
        "humedadTot = []\n",
        "altitudTot = []\n",
        "fecha_actualTot = []\n",
        "\n",
        "#print(soup.find_all('tr')[2].find_all('td')[5])\n",
        "\n",
        "#Colocamos un contador que nos ayude a ir recolectando los valores del cada lista\n",
        "posList = 0\n",
        "\n",
        "#Hacemos un recorrido por cada una de las filas:\n",
        "for tr in soup.find_all('tr'):\n",
        "  #Cuando recorremos, vamos buscando los valores y vamos guardando:\n",
        "  #print(tr)\n",
        "\n",
        "  posList = posList + 1\n",
        "  #print(posList)\n",
        "  if posList < 78:\n",
        "    #Para elmiminar los \"<td>\" y \"</td>\" aplicamos lo siguiente:\n",
        "    #variable.replace('', '')\n",
        "\n",
        "    longitudAntes = str(soup.find_all('tr')[posList].find_all('td')[0])\n",
        "    longitudAntes = longitudAntes.replace('<td>', '')\n",
        "    longitudNueva = longitudAntes.replace('</td>', '')\n",
        "    longitudTot.append(float(longitudNueva))\n",
        "\n",
        "    latitudAntes = str(soup.find_all('tr')[posList].find_all('td')[1])\n",
        "    latitudAntes = latitudAntes.replace('<td>', '')\n",
        "    latitudNueva = latitudAntes.replace('</td>', '')\n",
        "    latitudTot.append(float(latitudNueva))\n",
        "\n",
        "    temperaturaAntes = str(soup.find_all('tr')[posList].find_all('td')[2])\n",
        "    temperaturaAntes = temperaturaAntes.replace('<td>', '')\n",
        "    temperaturaNueva = temperaturaAntes.replace('</td>', '')\n",
        "    temperaturaTot.append(float(temperaturaNueva))\n",
        "\n",
        "    humedadAntes = str(soup.find_all('tr')[posList].find_all('td')[3])\n",
        "    humedadAntes = humedadAntes.replace('<td>', '')\n",
        "    humedadNueva = humedadAntes.replace('</td>', '')\n",
        "    humedadTot.append(float(humedadNueva))\n",
        "\n",
        "    altitudAntes = str(soup.find_all('tr')[posList].find_all('td')[4])\n",
        "    altitudAntes = altitudAntes.replace('<td>', '')\n",
        "    altitudNueva = altitudAntes.replace('</td>', '')\n",
        "    altitudTot.append(float(altitudNueva))\n",
        "\n",
        "    fecha_actualAntes = str(soup.find_all('tr')[posList].find_all('td')[5])\n",
        "    fecha_actualAntes = fecha_actualAntes.replace('<td>', '')\n",
        "    fecha_actualNueva = fecha_actualAntes.replace('</td>', '')\n",
        "    fecha_actualTot.append(fecha_actualNueva)\n",
        "\n",
        "\n",
        "#Mostramos que se hayan guardado bien los valores (todo oko):\n",
        "print(longitudTot)\n",
        "print(latitudTot)\n",
        "print(temperaturaTot)\n",
        "print(humedadTot)\n",
        "print(altitudTot)\n",
        "print(fecha_actualTot)\n",
        "\n",
        "\n",
        "\n",
        "#%%%%%%%%%%%%%%%%%%%%%%%%%%%%%%%%%%%%%%%%%%%%%%%%%%%%%%%%%%%%%%%%%%%%%%%%%%%%%%%\n",
        "\n",
        "#Declaramos nuestras funciones:\n",
        "\n",
        "#Para la parte del análisis de los datos en gráficas:\n",
        "\n",
        "\n",
        "\n",
        "\n"
      ]
    }
  ]
}